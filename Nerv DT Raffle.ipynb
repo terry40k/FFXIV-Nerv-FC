{
 "cells": [
  {
   "cell_type": "code",
   "execution_count": 20,
   "id": "76a5e30c-6604-4811-addf-79077a0c2b50",
   "metadata": {},
   "outputs": [
    {
     "name": "stdin",
     "output_type": "stream",
     "text": [
      "Enter the winning number (between 1 and 999):  777\n"
     ]
    },
    {
     "name": "stdout",
     "output_type": "stream",
     "text": [
      "\n",
      "Simulation 1\n",
      "Shiwo Chrysalis rolled: 618\n",
      "Hale Draco rolled: 546\n",
      "Albatoss Balong rolled: 830\n",
      "Jovian Balong rolled: 55\n",
      "Elysia Kharim rolled: 745\n",
      "Luceth Marithine rolled: 906\n",
      "Suija Qualli rolled: 686\n",
      "Mozeo Oakden rolled: 89\n",
      "Maki Moonfire rolled: 176\n",
      "Apple Angelbow rolled: 822\n",
      "Deuce Halifax rolled: 973\n",
      "Mia Orange rolled: 909\n",
      "Rurvyn Reledran rolled: 280\n",
      "Sien Clark rolled: 564\n",
      "No winner in this simulation.\n",
      "\n",
      "Simulation 2\n",
      "Shiwo Chrysalis rolled: 896\n",
      "Hale Draco rolled: 792\n",
      "Albatoss Balong rolled: 212\n",
      "Jovian Balong rolled: 294\n",
      "Elysia Kharim rolled: 777\n",
      "\n",
      "Elysia Kharim wins the Dawntrail raffle with the number 777!\n",
      "\n"
     ]
    },
    {
     "data": {
      "text/html": [
       "<img src=\"https://img2.finalfantasyxiv.com/f/54bb5132228ee00447c820297865a9b5_4d9be17b5e1edc617052b4dbf4007875fl0_640x873.jpg?1719446451\"/>"
      ],
      "text/plain": [
       "<IPython.core.display.Image object>"
      ]
     },
     "metadata": {},
     "output_type": "display_data"
    },
    {
     "data": {
      "text/html": [
       "<h2>Winning FC Member Details</h2><table><tr><th>Details</th></tr><tr><td>Race/Clan/Gender</td></tr><tr><td>Au Ra</td></tr><tr><td>Xaela / ♀</td></tr><tr><td>Nameday</td></tr><tr><td>6th Sun of the 2nd Umbral Moon</td></tr><tr><td>Guardian</td></tr><tr><td>Rhalgr, the Destroyer</td></tr><tr><td>City-state</td></tr><tr><td>Ul'dah</td></tr><tr><td>Grand Company</td></tr><tr><td>Maelstrom / Storm Captain</td></tr><tr><td>Free Company</td></tr><tr><td>Nerve</td></tr><tr><td>Attributes</td></tr></table>"
      ],
      "text/plain": [
       "<IPython.core.display.HTML object>"
      ]
     },
     "metadata": {},
     "output_type": "display_data"
    },
    {
     "data": {
      "text/html": [
       "<h2>Simulation Statistics</h2><table><tr><th>Statistic</th><th>Value</th></tr><tr><td>Total Simulations</td><td>2</td></tr><tr><td>Total Winners</td><td>1</td></tr></table>"
      ],
      "text/plain": [
       "<IPython.core.display.HTML object>"
      ]
     },
     "metadata": {},
     "output_type": "display_data"
    }
   ],
   "source": [
    "import requests\n",
    "from bs4 import BeautifulSoup\n",
    "import random\n",
    "from IPython.display import display, Image, HTML\n",
    "from collections import defaultdict\n",
    "\n",
    "# Updated list of Nerv FC members in the drawing\n",
    "fc_members = [\n",
    "    \"Shiwo Chrysalis\", \"Hale Draco\", \"Albatoss Balong\", \"Jovian Balong\", \"Elysia Kharim\", \n",
    "    \"Luceth Marithine\", \"Suija Qualli\", \"Mozeo Oakden\", \"Maki Moonfire\", \"Apple Angelbow\", \n",
    "    \"Deuce Halifax\", \"Mia Orange\", \"Rurvyn Reledran\", \"Sien Clark\"\n",
    "]\n",
    "\n",
    "# Function to fetch character profile image and details from FFXIV Lodestone\n",
    "def get_character_info(name):\n",
    "    search_url = f\"https://na.finalfantasyxiv.com/lodestone/character/?q={name.replace(' ', '+')}&worldname=Lamia\"\n",
    "    response = requests.get(search_url)\n",
    "    soup = BeautifulSoup(response.content, 'html.parser')\n",
    "\n",
    "    # Attempt to find the character profile link\n",
    "    character_link = soup.find('a', class_='entry__link')\n",
    "    if not character_link:\n",
    "        print(f\"Could not find character profile for {name} on Lamia\")\n",
    "        return None, None\n",
    "\n",
    "    character_url = f\"https://na.finalfantasyxiv.com{character_link['href']}\"\n",
    "    response = requests.get(character_url)\n",
    "    soup = BeautifulSoup(response.content, 'html.parser')\n",
    "\n",
    "    # Attempt to find the profile image\n",
    "    image_tag = soup.find('div', class_='character__detail__image')\n",
    "    if not image_tag:\n",
    "        print(f\"Could not find profile image for {name}\")\n",
    "        return None, None\n",
    "\n",
    "    image_url = image_tag.find('img')['src']\n",
    "\n",
    "    # Attempt to find additional character details\n",
    "    details_tag = soup.find('div', class_='character__profile__data')\n",
    "    if details_tag:\n",
    "        details = details_tag.get_text(strip=True, separator='\\n').split('\\n')\n",
    "    else:\n",
    "        details = [\"Details not found.\"]\n",
    "\n",
    "    return image_url, details\n",
    "\n",
    "# Function to create HTML table for character details\n",
    "def create_details_table(details):\n",
    "    table_html = \"<h2>Winning FC Member Details</h2><table><tr><th>Details</th></tr>\"\n",
    "    for detail in details:\n",
    "        table_html += f\"<tr><td>{detail}</td></tr>\"\n",
    "        if \"Attributes\" in detail:\n",
    "            break\n",
    "    table_html += \"</table>\"\n",
    "    return table_html\n",
    "\n",
    "# Function to display statistics\n",
    "def display_statistics(simulation_count, winners):\n",
    "    stats_html = \"<h2>Simulation Statistics</h2><table><tr><th>Statistic</th><th>Value</th></tr>\"\n",
    "    stats_html += f\"<tr><td>Total Simulations</td><td>{simulation_count}</td></tr>\"\n",
    "    stats_html += f\"<tr><td>Total Winners</td><td>{len(winners)}</td></tr>\"\n",
    "    stats_html += \"</table>\"\n",
    "    display(HTML(stats_html))\n",
    "\n",
    "# Function to run the simulations\n",
    "def run_simulations():\n",
    "    winning_number = int(input(\"Enter the winning number (between 1 and 999): \"))\n",
    "    \n",
    "    # Validate the input number\n",
    "    if winning_number < 1 or winning_number > 999:\n",
    "        print(\"The number must be between 1 and 999.\")\n",
    "        return\n",
    "    \n",
    "    simulation_count = 0\n",
    "    winners = []\n",
    "\n",
    "    for i in range(100):\n",
    "        simulation_count += 1\n",
    "        print(f\"\\nSimulation {i+1}\")\n",
    "        for fc_member in fc_members:\n",
    "            rolled_number = random.randint(1, 999)\n",
    "            print(f\"{fc_member} rolled: {rolled_number}\")\n",
    "            if rolled_number == winning_number:\n",
    "                image_url, details = get_character_info(fc_member)\n",
    "                if image_url:\n",
    "                    print(f\"\\n{fc_member} wins the Dawntrail raffle with the number {winning_number}!\\n\")\n",
    "                    display(Image(url=image_url))\n",
    "                    details_table = create_details_table(details)\n",
    "                    display(HTML(details_table))\n",
    "                    winners.append(fc_member)\n",
    "                else:\n",
    "                    print(f\"No profile image found for {fc_member}\")\n",
    "                display_statistics(simulation_count, winners)\n",
    "                return\n",
    "        print(\"No winner in this simulation.\")\n",
    "    \n",
    "    # Display final statistics\n",
    "    display_statistics(simulation_count, winners)\n",
    "\n",
    "# Run the simulations\n",
    "run_simulations()\n"
   ]
  },
  {
   "cell_type": "code",
   "execution_count": null,
   "id": "d867bfbf-ee5a-41b4-a369-fb9272ed7c29",
   "metadata": {},
   "outputs": [],
   "source": []
  }
 ],
 "metadata": {
  "kernelspec": {
   "display_name": "Python 3 (ipykernel)",
   "language": "python",
   "name": "python3"
  },
  "language_info": {
   "codemirror_mode": {
    "name": "ipython",
    "version": 3
   },
   "file_extension": ".py",
   "mimetype": "text/x-python",
   "name": "python",
   "nbconvert_exporter": "python",
   "pygments_lexer": "ipython3",
   "version": "3.12.2"
  }
 },
 "nbformat": 4,
 "nbformat_minor": 5
}
